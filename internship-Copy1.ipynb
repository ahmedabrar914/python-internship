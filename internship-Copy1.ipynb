{
 "cells": [
  {
   "cell_type": "code",
   "execution_count": 2,
   "metadata": {},
   "outputs": [],
   "source": [
    "import numpy as np \n",
    "from pandas import DataFrame\n",
    "import pandas as pd \n",
    "from statsmodels.tsa.seasonal import seasonal_decompose\n",
    "import seaborn as sns\n",
    "import matplotlib.pyplot as plt\n",
    "from fbprophet import Prophet\n",
    "from math import sqrt\n",
    "\n",
    "from sklearn.metrics import mean_squared_error, mean_absolute_error\n",
    "plt.style.use('fivethirtyeight')\n",
    "\n",
    "\n",
    "import os\n",
    "for dirname, _, filenames in os.walk('/kaggle/input'):\n",
    "    for filename in filenames:\n",
    "        print(os.path.join(dirname, filename))\n",
    "train_data=pd.read_csv(\"/kaggle/input/predice-el-futuro/train_csv.csv\")\n",
    "display(train_data.head())\n",
    "test_data=pd.read_csv(\"/kaggle/input/predice-el-futuro/test_csv.csv\")\n",
    "display(test_data.head())\n"
   ]
  },
  {
   "cell_type": "code",
   "execution_count": null,
   "metadata": {},
   "outputs": [],
   "source": [
    "train_data.plot(figsize=(16,8))\n"
   ]
  },
  {
   "cell_type": "code",
   "execution_count": null,
   "metadata": {},
   "outputs": [],
   "source": [
    "             \"#00BA38\", \"#00C19F\", \"#00B9E3\",\n",
    "             \"#619CFF\", \"#DB72FB\"]\n",
    "train_data.plot(style='.', figsize=(15,5), color=color_pal[1], title='Train_data')\n",
    "plt.show()"
   ]
  },
  {
   "cell_type": "code",
   "execution_count": null,
   "metadata": {},
   "outputs": [],
   "source": [
    "train_data.describe()"
   ]
  },
  {
   "cell_type": "code",
   "execution_count": null,
   "metadata": {},
   "outputs": [],
   "source": [
    "import pandas as pd\n",
    "train_data['time'] = pd.to_datetime(train_data['time'],format='%Y-%m-%d %H:%M:%S')\n",
    "\n",
    "train_data['year']=train_data['time'].dt.year \n",
    "train_data['month']=train_data['time'].dt.month \n",
    "train_data['day']=train_data['time'].dt.day\n",
    "\n",
    "train_data['dayofweek_num']=train_data['time'].dt.dayofweek  \n",
    "\n",
    "train_data['Hour'] = train_data['time'].dt.hour \n",
    "train_data['minute'] = train_data['time'].dt.minute \n",
    "train_data['second'] = train_data['time'].dt.second\n",
    "\n",
    "train_data.head()"
   ]
  },
  {
   "cell_type": "code",
   "execution_count": null,
   "metadata": {},
   "outputs": [],
   "source": [
    "sns.pairplot(train_data.dropna(),\n",
    "             hue='Hour',\n",
    "             x_vars=['Hour','dayofweek_num',\n",
    "                     'year'],\n",
    "             y_vars='feature',\n",
    "             height=5,\n",
    "             plot_kws={'alpha':0.15, 'linewidth':0}\n",
    "            )\n",
    "plt.suptitle('Feature by Hour, Day of Week, Year and Week of Year')\n",
    "plt.show()"
   ]
  },
  {
   "cell_type": "code",
   "execution_count": null,
   "metadata": {},
   "outputs": [],
   "source": [
    "train_data['lag_1'] = train_data['feature'].shift(1)\n",
    "train_data = train_data[['time', 'lag_1', 'feature']]\n",
    "train_data.head()"
   ]
  },
  {
   "cell_type": "code",
   "execution_count": null,
   "metadata": {},
   "outputs": [],
   "source": [
    "train_data['lag_1'] = train_data['feature'].shift(1)\n",
    "train_data['lag_2'] = train_data['feature'].shift(2)\n",
    "train_data['lag_3'] = train_data['feature'].shift(3)\n",
    "train_data['lag_4'] = train_data['feature'].shift(4)\n",
    "train_data['lag_5'] = train_data['feature'].shift(5)\n",
    "train_data['lag_6'] = train_data['feature'].shift(6)\n",
    "train_data['lag_7'] = train_data['feature'].shift(7)\n",
    "\n",
    "data = train_data[['time', 'lag_1', 'lag_2', 'lag_3', 'lag_4', 'lag_5', 'lag_6', 'lag_7', 'feature']]\n",
    "data.head(10)"
   ]
  },
  {
   "cell_type": "code",
   "execution_count": null,
   "metadata": {},
   "outputs": [],
   "source": [
    "train_data.reset_index() \\\n",
    "    .rename(columns={'time':'ds',\n",
    "                     'feature':'y'}).head()"
   ]
  },
  {
   "cell_type": "code",
   "execution_count": null,
   "metadata": {},
   "outputs": [],
   "source": [
    "model = Prophet()\n",
    "model.fit(train_data.reset_index() \\\n",
    "              .rename(columns={'time':'ds',\n",
    "                               'feature':'y'}))"
   ]
  },
  {
   "cell_type": "code",
   "execution_count": null,
   "metadata": {},
   "outputs": [],
   "source": [
    "test_fcst = model.predict(df=test_data.reset_index() \\\n",
    "                                   .rename(columns={'time':'ds'}))"
   ]
  },
  {
   "cell_type": "code",
   "execution_count": null,
   "metadata": {},
   "outputs": [],
   "source": [
    "test_fcst.head()"
   ]
  },
  {
   "cell_type": "code",
   "execution_count": null,
   "metadata": {},
   "outputs": [],
   "source": [
    "data=test_fcst[\"yhat_upper\"]\n",
    "data.loc[1:40]"
   ]
  },
  {
   "cell_type": "code",
   "execution_count": null,
   "metadata": {},
   "outputs": [],
   "source": [
    "f, ax = plt.subplots(1)\n",
    "f.set_figheight(5)\n",
    "f.set_figwidth(15)\n",
    "fig = model.plot(test_fcst,\n",
    "                 ax=ax)\n",
    "plt.show()\n"
   ]
  },
  {
   "cell_type": "code",
   "execution_count": null,
   "metadata": {},
   "outputs": [],
   "source": [
    "fig = model.plot_components(test_fcst)\n"
   ]
  },
  {
   "cell_type": "code",
   "execution_count": null,
   "metadata": {},
   "outputs": [],
   "source": [
    "train_fcst = model.predict(df=train_data.reset_index() \\\n",
    "                                   .rename(columns={'time':'ds'}))"
   ]
  },
  {
   "cell_type": "code",
   "execution_count": null,
   "metadata": {},
   "outputs": [],
   "source": [
    "from pandas import datetime\n",
    "def parserToTimeDatatype(time):\n",
    "    return datetime.strptime(time,\"%Y-%m-%d %H:%M:%S\")"
   ]
  },
  {
   "cell_type": "code",
   "execution_count": null,
   "metadata": {},
   "outputs": [],
   "source": [
    "parse_dates = [1], \n",
    "index_col = 1, \n",
    "date_parser=parserToTimeDatatype)\n",
    "df.head()\n"
   ]
  },
  {
   "cell_type": "code",
   "execution_count": null,
   "metadata": {},
   "outputs": [],
   "source": [
    "df= df.iloc[:,[1]]\n",
    "df"
   ]
  },
  {
   "cell_type": "code",
   "execution_count": null,
   "metadata": {},
   "outputs": [],
   "source": [
    "plt.plot(df,color='maroon')"
   ]
  },
  {
   "cell_type": "code",
   "execution_count": null,
   "metadata": {},
   "outputs": [],
   "source": [
    "modifiedDF = df.diff(periods=1)\n",
    "modifiedDF.dropna(inplace=True)\n",
    "modifiedDF.head()"
   ]
  },
  {
   "cell_type": "code",
   "execution_count": null,
   "metadata": {},
   "outputs": [],
   "source": [
    "modifiedDF.reset_index() \\\n",
    "    .rename(columns={'time':'ds',\n",
    "                     'feature':'y'}).head()\n"
   ]
  },
  {
   "cell_type": "code",
   "execution_count": null,
   "metadata": {},
   "outputs": [],
   "source": [
    "model = Prophet()\n",
    "model.fit(modifiedDF.reset_index() \\\n",
    "              .rename(columns={'time':'ds',\n",
    "                               'feature':'y'}))\n"
   ]
  },
  {
   "cell_type": "code",
   "execution_count": null,
   "metadata": {},
   "outputs": [],
   "source": [
    "test_fcst = model.predict(df=modifiedDF.reset_index() \\\n",
    "                                   .rename(columns={'time':'ds'}))\n",
    "f, ax = plt.subplots(1)\n",
    "f.set_figheight(5)\n",
    "f.set_figwidth(15)\n",
    "fig = model.plot(test_fcst,\n",
    "                 ax=ax)\n",
    "plt.show()\n"
   ]
  },
  {
   "cell_type": "code",
   "execution_count": null,
   "metadata": {},
   "outputs": [],
   "source": [
    "mean_squared_error(y_true=modifiedDF['feature'],\n",
    "                   y_pred=test_fcst['yhat'])"
   ]
  },
  {
   "cell_type": "code",
   "execution_count": null,
   "metadata": {},
   "outputs": [],
   "source": []
  }
 ],
 "metadata": {
  "kernelspec": {
   "display_name": "Python 3",
   "language": "python",
   "name": "python3"
  },
  "language_info": {
   "codemirror_mode": {
    "name": "ipython",
    "version": 3
   },
   "file_extension": ".py",
   "mimetype": "text/x-python",
   "name": "python",
   "nbconvert_exporter": "python",
   "pygments_lexer": "ipython3",
   "version": "3.7.6"
  }
 },
 "nbformat": 4,
 "nbformat_minor": 4
}
